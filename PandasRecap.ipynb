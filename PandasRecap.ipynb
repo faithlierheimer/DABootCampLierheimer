{
 "cells": [
  {
   "cell_type": "code",
   "execution_count": 3,
   "metadata": {},
   "outputs": [],
   "source": [
    "# Import the Pandas library\n",
    "import pandas as pd"
   ]
  },
  {
   "cell_type": "code",
   "execution_count": 4,
   "metadata": {},
   "outputs": [
    {
     "name": "stdout",
     "output_type": "stream",
     "text": [
      "           datetime                  city state country     shape  \\\n",
      "0  10/10/1949 20:30            san marcos    tx      us  cylinder   \n",
      "1  10/10/1949 21:00          lackland afb    tx     NaN     light   \n",
      "2  10/10/1955 17:00  chester (uk/england)   NaN      gb    circle   \n",
      "3  10/10/1956 21:00                  edna    tx      us    circle   \n",
      "4  10/10/1960 20:00               kaneohe    hi      us     light   \n",
      "\n",
      "  duration (seconds) duration (hours/min)  \\\n",
      "0               2700           45 minutes   \n",
      "1               7200              1-2 hrs   \n",
      "2                 20           20 seconds   \n",
      "3                 20             1/2 hour   \n",
      "4                900           15 minutes   \n",
      "\n",
      "                                            comments date posted    latitude  \\\n",
      "0  This event took place in early fall around 194...   4/27/2004  29.8830556   \n",
      "1  1949 Lackland AFB&#44 TX.  Lights racing acros...  12/16/2005    29.38421   \n",
      "2  Green/Orange circular disc over Chester&#44 En...   1/21/2008        53.2   \n",
      "3  My older brother and twin sister were leaving ...   1/17/2004  28.9783333   \n",
      "4  AS a Marine 1st Lt. flying an FJ4B fighter/att...   1/22/2004  21.4180556   \n",
      "\n",
      "   longitude   \n",
      "0  -97.941111  \n",
      "1  -98.581082  \n",
      "2   -2.916667  \n",
      "3  -96.645833  \n",
      "4 -157.803611  \n"
     ]
    },
    {
     "name": "stderr",
     "output_type": "stream",
     "text": [
      "C:\\Users\\flier\\.conda\\lib\\site-packages\\IPython\\core\\interactiveshell.py:3063: DtypeWarning: Columns (5,9) have mixed types.Specify dtype option on import or set low_memory=False.\n",
      "  interactivity=interactivity, compiler=compiler, result=result)\n"
     ]
    }
   ],
   "source": [
    "# Create a reference the CSV file desired\n",
    "ufo = pd.read_csv(r'C:\\Users\\flier\\Desktop\\du-den-data-pt-06-2020-u-c\\Class_Materials\\04-Pandas\\2\\Activities\\05-Evr_PandasRecap\\Unsolved\\Resources\\ufoSightings.csv')\n",
    "# Read the CSV into a Pandas DataFrame\n",
    "\n",
    "# Print the first five rows of data to the screen\n",
    "print(ufo.head())"
   ]
  },
  {
   "cell_type": "code",
   "execution_count": 6,
   "metadata": {},
   "outputs": [
    {
     "data": {
      "text/plain": [
       "datetime                80332\n",
       "city                    80332\n",
       "state                   74535\n",
       "country                 70662\n",
       "shape                   78400\n",
       "duration (seconds)      80332\n",
       "duration (hours/min)    80332\n",
       "comments                80317\n",
       "date posted             80332\n",
       "latitude                80332\n",
       "longitude               80332\n",
       "dtype: int64"
      ]
     },
     "execution_count": 6,
     "metadata": {},
     "output_type": "execute_result"
    }
   ],
   "source": [
    "# Check to see if there are any rows with missing data\n",
    "ufo.count()"
   ]
  },
  {
   "cell_type": "code",
   "execution_count": 8,
   "metadata": {},
   "outputs": [
    {
     "name": "stdout",
     "output_type": "stream",
     "text": [
      "datetime                66516\n",
      "city                    66516\n",
      "state                   66516\n",
      "country                 66516\n",
      "shape                   66516\n",
      "duration (seconds)      66516\n",
      "duration (hours/min)    66516\n",
      "comments                66516\n",
      "date posted             66516\n",
      "latitude                66516\n",
      "longitude               66516\n",
      "dtype: int64\n"
     ]
    }
   ],
   "source": [
    "# Remove the rows with missing data\n",
    "ufoNoNull = ufo.dropna(how = 'any')\n",
    "print(ufoNoNull.count())"
   ]
  },
  {
   "cell_type": "code",
   "execution_count": 14,
   "metadata": {},
   "outputs": [
    {
     "name": "stdout",
     "output_type": "stream",
     "text": [
      "Index(['datetime', 'city', 'state', 'country', 'shape', 'duration (seconds)',\n",
      "       'duration (hours/min)', 'comments', 'date posted', 'latitude',\n",
      "       'longitude '],\n",
      "      dtype='object')\n"
     ]
    }
   ],
   "source": [
    "# Filter the data so that only those sightings in the US are in a DataFrame\n",
    "filterufo = ufoNoNull.loc[:, 'country']=='us'\n",
    "usufo = ufoNoNull.loc[filterufo, :]\n",
    "print(usufo.columns)"
   ]
  },
  {
   "cell_type": "code",
   "execution_count": 17,
   "metadata": {},
   "outputs": [
    {
     "name": "stdout",
     "output_type": "stream",
     "text": [
      "ca    8683\n",
      "fl    3754\n",
      "wa    3707\n",
      "tx    3398\n",
      "ny    2915\n",
      "Name: state, dtype: int64\n"
     ]
    }
   ],
   "source": [
    "# Count how many sightings have occured within each state\n",
    "usufoStates = usufo['state'].value_counts()\n",
    "print(usufoStates.head())"
   ]
  },
  {
   "cell_type": "code",
   "execution_count": null,
   "metadata": {
    "collapsed": true
   },
   "outputs": [],
   "source": [
    "# Convert the state_counts Series into a DataFrame"
   ]
  },
  {
   "cell_type": "code",
   "execution_count": null,
   "metadata": {
    "collapsed": true
   },
   "outputs": [],
   "source": [
    "# Convert the column name into \"Sum of Sightings\""
   ]
  },
  {
   "cell_type": "code",
   "execution_count": null,
   "metadata": {
    "collapsed": true
   },
   "outputs": [],
   "source": [
    "# Want to add up the seconds UFOs are seen? There is a problem\n",
    "# Problem can be seen by examining datatypes within the DataFrame"
   ]
  }
 ],
 "metadata": {
  "kernelspec": {
   "display_name": "Python 3",
   "language": "python",
   "name": "python3"
  },
  "language_info": {
   "codemirror_mode": {
    "name": "ipython",
    "version": 3
   },
   "file_extension": ".py",
   "mimetype": "text/x-python",
   "name": "python",
   "nbconvert_exporter": "python",
   "pygments_lexer": "ipython3",
   "version": "3.7.6"
  }
 },
 "nbformat": 4,
 "nbformat_minor": 2
}
