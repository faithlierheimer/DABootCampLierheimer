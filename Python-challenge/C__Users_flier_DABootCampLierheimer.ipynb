{
 "cells": [
  {
   "cell_type": "code",
   "execution_count": 1,
   "metadata": {},
   "outputs": [],
   "source": [
    "import pandas as pd"
   ]
  },
  {
   "cell_type": "code",
   "execution_count": 2,
   "metadata": {},
   "outputs": [],
   "source": [
    "#Import CSV into Jupyter Notebook\n",
    "budget = pd.read_csv('budget_data.csv')"
   ]
  },
  {
   "cell_type": "code",
   "execution_count": 3,
   "metadata": {},
   "outputs": [
    {
     "name": "stdout",
     "output_type": "stream",
     "text": [
      "       Date  Profit/Losses\n",
      "0  Jan-2010         867884\n",
      "1  Feb-2010         984655\n",
      "2  Mar-2010         322013\n",
      "3  Apr-2010         -69417\n",
      "4  May-2010         310503\n"
     ]
    }
   ],
   "source": [
    "#Print first 5 rows of data to see what it looks like\n",
    "print(budget.head())"
   ]
  },
  {
   "cell_type": "code",
   "execution_count": 6,
   "metadata": {},
   "outputs": [
    {
     "name": "stdout",
     "output_type": "stream",
     "text": [
      "       date   pandl\n",
      "0  Jan-2010  867884\n",
      "1  Feb-2010  984655\n",
      "2  Mar-2010  322013\n",
      "3  Apr-2010  -69417\n",
      "4  May-2010  310503\n"
     ]
    }
   ],
   "source": [
    "budget.columns = ['date', 'pandl']\n",
    "print(budget.head())"
   ]
  },
  {
   "cell_type": "code",
   "execution_count": 38,
   "metadata": {},
   "outputs": [
    {
     "ename": "SyntaxError",
     "evalue": "invalid syntax (<ipython-input-38-baff30cdfe92>, line 12)",
     "output_type": "error",
     "traceback": [
      "\u001b[1;36m  File \u001b[1;32m\"<ipython-input-38-baff30cdfe92>\"\u001b[1;36m, line \u001b[1;32m12\u001b[0m\n\u001b[1;33m    file = open(\"PyBankOutput.txt\", \"a\"))\u001b[0m\n\u001b[1;37m       ^\u001b[0m\n\u001b[1;31mSyntaxError\u001b[0m\u001b[1;31m:\u001b[0m invalid syntax\n"
     ]
    }
   ],
   "source": [
    "#Print total number of months included in the dataset, w/labels\n",
    "print(\"Total Months: \" + str(budget.date.count()), \n",
    "      file = open(\"PyBankOutput.txt\", \"a\"))\n",
    "\n",
    "#Print net total amount of profits and losses in entire period\n",
    "#Column name for Profits/Losses abbreviated to \"pandl\"\n",
    "print(\"Net total over entire period: $\" + str(budget.pandl.sum()),\n",
    "     file = open(\"PyBankOutput.txt\", \"a\"))\n",
    "\n",
    "#Print average of changes in \"Profit/Losses over entire period\"\n",
    "print(\"Average Change : $\" + str(budget.pandl.mean())\n",
    "     file = open(\"PyBankOutput.txt\", \"a\"))\n",
    "\n",
    "#Print greatest increase in profits (date and amount) over entire period\n",
    "maxDate = budget.max()\n",
    "print(\"The greatest increase in profits was: \", \n",
    "     file = open(\"PyBankOutput.txt\", \"a\"))\n",
    "print(maxDate, file = open(\"PyBankOutput.txt\", \"a\"))\n",
    "\n",
    "#Print greatest decrease in losses (date and amount) over the entire period\n",
    "minDate = budget.min()\n",
    "print(\"The greatest decrease in profits was: \",\n",
    "      file = open(\"PyBankOutput.txt\", \"a\"))\n",
    "print(minDate, file = open(\"PyBankOutput.txt\", \"a\"))\n",
    "\n",
    "#Export all print statements to a .txt file"
   ]
  }
 ],
 "metadata": {
  "kernelspec": {
   "display_name": "Python 3",
   "language": "python",
   "name": "python3"
  },
  "language_info": {
   "codemirror_mode": {
    "name": "ipython",
    "version": 3
   },
   "file_extension": ".py",
   "mimetype": "text/x-python",
   "name": "python",
   "nbconvert_exporter": "python",
   "pygments_lexer": "ipython3",
   "version": "3.7.6"
  }
 },
 "nbformat": 4,
 "nbformat_minor": 4
}
